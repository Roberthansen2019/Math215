{
  "nbformat": 4,
  "nbformat_minor": 2,
  "metadata": {
    "colab": {
      "name": "Intro_to_Python_I.ipynb",
      "provenance": [],
      "collapsed_sections": [],
      "include_colab_link": true
    },
    "kernelspec": {
      "name": "python3",
      "display_name": "Python 3.8.8 64-bit ('base': conda)"
    },
    "language_info": {
      "name": "python",
      "version": "3.8.8",
      "mimetype": "text/x-python",
      "codemirror_mode": {
        "name": "ipython",
        "version": 3
      },
      "pygments_lexer": "ipython3",
      "nbconvert_exporter": "python",
      "file_extension": ".py"
    },
    "interpreter": {
      "hash": "5f722dbbb27499a87b71a29ec81b09d90f838f8b87aac553f33768633389a58a"
    }
  },
  "cells": [
    {
      "cell_type": "markdown",
      "source": [
        "<a href=\"https://colab.research.google.com/github/nicholasoxenden/Math215/blob/main/Intro_to_Python_I.ipynb\" target=\"_parent\"><img src=\"https://colab.research.google.com/assets/colab-badge.svg\" alt=\"Open In Colab\"/></a>"
      ],
      "metadata": {
        "id": "view-in-github",
        "colab_type": "text"
      }
    },
    {
      "cell_type": "markdown",
      "source": [
        "# **Lab 1 - Introduction to Python programming I**"
      ],
      "metadata": {
        "id": "685r5AWPa9Xe"
      }
    },
    {
      "cell_type": "markdown",
      "source": [
        "Enter your code in the spaces provided.  Do not change any of the variable names or function names that are already provided for you.  In places where we specify the name of the return value, make sure that your code produces the a value with the correct name."
      ],
      "metadata": {
        "id": "V-qYB1txmmzK"
      }
    },
    {
      "cell_type": "code",
      "execution_count": null,
      "source": [
        "# Do not edit this cell.\n",
        "\n",
        "LabID=\"Lab1\"\n",
        "\n",
        "try:\n",
        "  from graderHelp import ISGRADEPLOT\n",
        "except ImportError:\n",
        "  ISGRADEPLOT = True"
      ],
      "outputs": [],
      "metadata": {
        "id": "2Jh6GIwanXmY"
      }
    },
    {
      "cell_type": "markdown",
      "source": [
        "**Enter your name, section number, and BYU NetID**"
      ],
      "metadata": {
        "id": "QxyApY1lbIyA"
      }
    },
    {
      "cell_type": "code",
      "execution_count": null,
      "source": [
        "# Enter your first and last names in between the quotation marks.\n",
        "\n",
        "first_name=\"Nicholas\"\n",
        "\n",
        "last_name=\"Oxenden\"\n",
        "\n",
        "# Enter your Math 215 section number in between the quotation marks. \n",
        "\n",
        "section_number=\"001\"  \n",
        "\n",
        "# Enter your BYU NetID in between the quotation marks.  NOT YOUR BYU ID NUMBER!\n",
        "\n",
        "BYUNetID=\"noxenden\"  "
      ],
      "outputs": [],
      "metadata": {
        "id": "Y4Ga6wzLbG-K"
      }
    },
    {
      "cell_type": "markdown",
      "source": [
        "**Problem 1**"
      ],
      "metadata": {
        "id": "NCF4YDbeblKI"
      }
    },
    {
      "cell_type": "code",
      "execution_count": 2,
      "source": [
        "my_first_var= (118 + (11 * 2)) / (9-2)  # Replace the value of 0 with the required expression from Problem 1."
      ],
      "outputs": [
        {
          "output_type": "stream",
          "name": "stdout",
          "text": [
            "20.0\n"
          ]
        }
      ],
      "metadata": {
        "id": "ZJJu3xyWb2OG"
      }
    },
    {
      "cell_type": "markdown",
      "source": [
        "**Problem 2**"
      ],
      "metadata": {
        "id": "g3Hq1OYZfq5B"
      }
    },
    {
      "cell_type": "code",
      "execution_count": 5,
      "source": [
        "def arithmetic2(i):\n",
        "  return (((i + 2) * 3) - 5)# Put your return value here.  Your shouldn't need to add any more lines of code to this function."
      ],
      "outputs": [
        {
          "output_type": "stream",
          "name": "stdout",
          "text": [
            "-29\n"
          ]
        }
      ],
      "metadata": {
        "id": "mqfH8cBsfs1e"
      }
    },
    {
      "cell_type": "markdown",
      "source": [
        "**Problem 3**"
      ],
      "metadata": {
        "id": "qrKdBbfFgpOU"
      }
    },
    {
      "cell_type": "code",
      "execution_count": null,
      "source": [
        "def triple(y):\n",
        "  return y * 3# Put your return value here.  "
      ],
      "outputs": [],
      "metadata": {
        "id": "84RmxbZmgTX-"
      }
    },
    {
      "cell_type": "code",
      "execution_count": 7,
      "source": [
        "def avg(x,y):\n",
        "  return (x + y) / 2# Put your return value here."
      ],
      "outputs": [
        {
          "output_type": "execute_result",
          "data": {
            "text/plain": [
              "15.0"
            ]
          },
          "metadata": {},
          "execution_count": 7
        }
      ],
      "metadata": {
        "id": "_WQe_9NZg-Q3"
      }
    },
    {
      "cell_type": "code",
      "execution_count": null,
      "source": [
        "def combine(x,y):\n",
        "  # Put your code here.  Remember that this function should call both of the functions triple(y) and avg(x,y) from above.\n",
        "  return # Put your return value here.\n",
        "''' Ask for clarification here'''"
      ],
      "outputs": [],
      "metadata": {
        "id": "-DoJnLekhEgD"
      }
    },
    {
      "cell_type": "markdown",
      "source": [
        "**Problem 4**"
      ],
      "metadata": {
        "id": "vAPEAMw_iGlF"
      }
    },
    {
      "cell_type": "code",
      "execution_count": null,
      "source": [
        "def first(c):\n",
        "  return c[0] # Put your return value here."
      ],
      "outputs": [],
      "metadata": {
        "id": "GSJqyHzriHyM"
      }
    },
    {
      "cell_type": "code",
      "execution_count": null,
      "source": [
        "def first_last(c):\n",
        "  return c[0], c[-1] # Put your return values here.  Remember a function can return two values (you will format your return statement as \"return value1, value2\")."
      ],
      "outputs": [],
      "metadata": {
        "id": "qUfk0PngiQ0E"
      }
    },
    {
      "cell_type": "code",
      "execution_count": 11,
      "source": [
        "def middle(c):\n",
        "  return c[1: len(c) - 1]# Put your return value here."
      ],
      "outputs": [],
      "metadata": {
        "id": "LdadxnmCkG8w"
      }
    },
    {
      "cell_type": "markdown",
      "source": [
        "**Problem 5**"
      ],
      "metadata": {
        "id": "H1pF-iahkVSF"
      }
    },
    {
      "cell_type": "code",
      "execution_count": 20,
      "source": [
        "c = [0,1,2,3,4,5]\n",
        "\n",
        "def swap(c):\n",
        "\n",
        "  new_list = c.copy()\n",
        "  new_lst = [new_list[-1]]\n",
        "  new_lst.extend(new_list[1:-1])\n",
        "  new_lst.append(new_list[0])\n",
        "  \n",
        "  return new_lst# Put your return value here."
      ],
      "outputs": [
        {
          "output_type": "execute_result",
          "data": {
            "text/plain": [
              "[5, 1, 2, 3, 4, 0]"
            ]
          },
          "metadata": {},
          "execution_count": 20
        }
      ],
      "metadata": {
        "id": "8nJnVRG5kTr8"
      }
    },
    {
      "cell_type": "markdown",
      "source": [
        "**Problem 6**"
      ],
      "metadata": {
        "id": "re7RuJoFlzOF"
      }
    },
    {
      "cell_type": "code",
      "execution_count": 25,
      "source": [
        "def absolute_value(x):\n",
        "  if x >= 0:\n",
        "    x = x\n",
        "  else:\n",
        "    x = -x\n",
        "  return x # Put your return value here."
      ],
      "outputs": [
        {
          "output_type": "execute_result",
          "data": {
            "text/plain": [
              "50"
            ]
          },
          "metadata": {},
          "execution_count": 25
        }
      ],
      "metadata": {
        "id": "yEVLhVbjkbDo"
      }
    },
    {
      "cell_type": "markdown",
      "source": [
        "**Problem 7**"
      ],
      "metadata": {
        "id": "EipWzzRll93V"
      }
    },
    {
      "cell_type": "code",
      "execution_count": 29,
      "source": [
        "def indicator(lower,upper,n):\n",
        "  value_to_return = None\n",
        "  if (lower <= n) and (n <= upper):\n",
        "    return 1\n",
        "  else:\n",
        "    return 0"
      ],
      "outputs": [
        {
          "output_type": "execute_result",
          "data": {
            "text/plain": [
              "1"
            ]
          },
          "metadata": {},
          "execution_count": 29
        }
      ],
      "metadata": {
        "id": "WkBLvjjCl80O"
      }
    },
    {
      "cell_type": "markdown",
      "source": [
        "**Problem 8**"
      ],
      "metadata": {
        "id": "RWju9gIhmQ5F"
      }
    },
    {
      "cell_type": "code",
      "execution_count": null,
      "source": [
        "def trunc_max(x,y):\n",
        "  if (x > 0) or \n",
        "  return # Put your return value here."
      ],
      "outputs": [],
      "metadata": {
        "id": "SPpsjK27mQKJ"
      }
    },
    {
      "cell_type": "markdown",
      "source": [
        "**STOP!  BEFORE YOU SUBMIT THIS LAB:**  Go to the \"Runtime\" menu at the top of this page, and select \"Restart and run all\".  If any of the cells produce error messages, you will either need to fix the error(s) or delete the code that is causing the error(s).  Then use \"Restart and run all\" again to see if there are any new errors.  Repeat this until no new error messages show up.  "
      ],
      "metadata": {
        "id": "x7EZGaY0Ufim"
      }
    },
    {
      "cell_type": "markdown",
      "source": [
        "**You are not ready to submit until you are able to select \"Restart and run all\" without any new error messages showing up.  Your code will not be able to be graded if there are any error messages.**"
      ],
      "metadata": {
        "id": "Wjeko4xfUla-"
      }
    },
    {
      "cell_type": "markdown",
      "source": [
        "To submit your lab for grading you must first download it to your compute as .py file. In the \"File\" menu select \"Download .py\". The resulting file can then be uploaded to http://www.math.byu.edu:30000 for grading."
      ],
      "metadata": {
        "id": "BiDWiRIrRt5Z"
      }
    }
  ]
}